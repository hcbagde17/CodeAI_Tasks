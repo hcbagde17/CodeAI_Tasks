{
  "nbformat": 4,
  "nbformat_minor": 0,
  "metadata": {
    "colab": {
      "provenance": []
    },
    "kernelspec": {
      "name": "python3",
      "display_name": "Python 3"
    },
    "language_info": {
      "name": "python"
    }
  },
  "cells": [
    {
      "cell_type": "code",
      "source": [
        "import random\n",
        "def read_file_to_list(filepath):\n",
        "    with open(filepath, 'r') as file:\n",
        "        lines = file.readlines()  # Read all lines into a list\n",
        "    # Optionally strip newline characters\n",
        "    lines = [line.strip() for line in lines]\n",
        "    return lines"
      ],
      "metadata": {
        "id": "U8Kdenp3JIHe"
      },
      "execution_count": 1,
      "outputs": []
    },
    {
      "cell_type": "code",
      "source": [
        "def secret_f(lst):\n",
        "    return random.choice(lst)"
      ],
      "metadata": {
        "id": "g_jfIYRJJJ8y"
      },
      "execution_count": 2,
      "outputs": []
    },
    {
      "cell_type": "code",
      "source": [
        "my_lst = read_file_to_list('/content/food_5_letters.txt')\n",
        "secret=secret_f(my_lst)"
      ],
      "metadata": {
        "id": "gaz6BfBrJOfZ"
      },
      "execution_count": 3,
      "outputs": []
    },
    {
      "cell_type": "code",
      "source": [
        "def chk_guess(guess,secret):\n",
        "    guess = guess.lower()\n",
        "    if guess==secret:\n",
        "        return 1\n",
        "    else:\n",
        "        for x,y in zip(guess,secret):\n",
        "            if x == y:\n",
        "                print(\"🟩\", x, end=\" \")\n",
        "            elif x in secret:\n",
        "                print(\"🟨\", x, end=\" \")\n",
        "            else:\n",
        "                print(\"⬛\", x, end=\" \")\n",
        "            print()\n",
        "        return 0"
      ],
      "metadata": {
        "id": "X92D74FPJRx-"
      },
      "execution_count": 4,
      "outputs": []
    },
    {
      "cell_type": "code",
      "source": [
        "i=0\n",
        "while i<6:\n",
        "    gs = input(\"Enter your guess:\")\n",
        "    if len(gs)!=5 or not(gs.isalpha()) or gs not in my_lst:\n",
        "        print(\"Enter your guess again with only 5 letters/no special characters/from the list!\")\n",
        "        continue\n",
        "    else:\n",
        "        i+=1\n",
        "    trk = chk_guess(gs,secret)\n",
        "    if trk==1:\n",
        "        print(\"You guessed it right! You win!\")\n",
        "        break\n",
        "else:\n",
        "    print(\"You loose try again!\")"
      ],
      "metadata": {
        "colab": {
          "base_uri": "https://localhost:8080/"
        },
        "id": "_kPoMH4QJVln",
        "outputId": "7673c0bd-3c59-4bc3-f6cc-065c4cd10f3a"
      },
      "execution_count": 5,
      "outputs": [
        {
          "output_type": "stream",
          "name": "stdout",
          "text": [
            "Enter your guess:bagel\n",
            "🟩 b \n",
            "🟩 a \n",
            "⬛ g \n",
            "⬛ e \n",
            "🟩 l \n",
            "Enter your guess:basil\n",
            "You guessed it right! You win!\n"
          ]
        }
      ]
    }
  ]
}