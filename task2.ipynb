{
 "cells": [
  {
   "cell_type": "code",
   "execution_count": 1,
   "id": "6e5dee45",
   "metadata": {},
   "outputs": [],
   "source": [
    "import numpy as np\n",
    "import pandas as pd\n",
    "import matplotlib.pyplot as plt\n",
    "import seaborn as sns"
   ]
  },
  {
   "cell_type": "code",
   "execution_count": 2,
   "id": "08f1ccbe",
   "metadata": {},
   "outputs": [
    {
     "data": {
      "text/html": [
       "<div>\n",
       "<style scoped>\n",
       "    .dataframe tbody tr th:only-of-type {\n",
       "        vertical-align: middle;\n",
       "    }\n",
       "\n",
       "    .dataframe tbody tr th {\n",
       "        vertical-align: top;\n",
       "    }\n",
       "\n",
       "    .dataframe thead th {\n",
       "        text-align: right;\n",
       "    }\n",
       "</style>\n",
       "<table border=\"1\" class=\"dataframe\">\n",
       "  <thead>\n",
       "    <tr style=\"text-align: right;\">\n",
       "      <th></th>\n",
       "      <th>Name</th>\n",
       "      <th>ID</th>\n",
       "      <th>NameType</th>\n",
       "      <th>Classification</th>\n",
       "      <th>Mass</th>\n",
       "      <th>Fall</th>\n",
       "      <th>Year</th>\n",
       "      <th>Coordinates</th>\n",
       "    </tr>\n",
       "  </thead>\n",
       "  <tbody>\n",
       "    <tr>\n",
       "      <th>0</th>\n",
       "      <td>Aachen</td>\n",
       "      <td>1</td>\n",
       "      <td>Valid</td>\n",
       "      <td>L5</td>\n",
       "      <td>Quantity[21, \"Grams\"]</td>\n",
       "      <td>Fell</td>\n",
       "      <td>DateObject[{1880}, \"Year\", \"Gregorian\", -5.]</td>\n",
       "      <td>GeoPosition[{50.775, 6.08333}]</td>\n",
       "    </tr>\n",
       "    <tr>\n",
       "      <th>1</th>\n",
       "      <td>Aarhus</td>\n",
       "      <td>2</td>\n",
       "      <td>Valid</td>\n",
       "      <td>H6</td>\n",
       "      <td>Quantity[720, \"Grams\"]</td>\n",
       "      <td>Fell</td>\n",
       "      <td>DateObject[{1951}, \"Year\", \"Gregorian\", -5.]</td>\n",
       "      <td>GeoPosition[{56.18333, 10.23333}]</td>\n",
       "    </tr>\n",
       "    <tr>\n",
       "      <th>2</th>\n",
       "      <td>Abee</td>\n",
       "      <td>6</td>\n",
       "      <td>Valid</td>\n",
       "      <td>EH4</td>\n",
       "      <td>Quantity[107000, \"Grams\"]</td>\n",
       "      <td>Fell</td>\n",
       "      <td>DateObject[{1952}, \"Year\", \"Gregorian\", -5.]</td>\n",
       "      <td>GeoPosition[{54.21667, -113.}]</td>\n",
       "    </tr>\n",
       "    <tr>\n",
       "      <th>3</th>\n",
       "      <td>Acapulco</td>\n",
       "      <td>10</td>\n",
       "      <td>Valid</td>\n",
       "      <td>Acapulcoite</td>\n",
       "      <td>Quantity[1914, \"Grams\"]</td>\n",
       "      <td>Fell</td>\n",
       "      <td>DateObject[{1976}, \"Year\", \"Gregorian\", -5.]</td>\n",
       "      <td>GeoPosition[{16.88333, -99.9}]</td>\n",
       "    </tr>\n",
       "    <tr>\n",
       "      <th>4</th>\n",
       "      <td>Achiras</td>\n",
       "      <td>370</td>\n",
       "      <td>Valid</td>\n",
       "      <td>L6</td>\n",
       "      <td>Quantity[780, \"Grams\"]</td>\n",
       "      <td>Fell</td>\n",
       "      <td>DateObject[{1902}, \"Year\", \"Gregorian\", -5.]</td>\n",
       "      <td>GeoPosition[{-33.16667, -64.95}]</td>\n",
       "    </tr>\n",
       "    <tr>\n",
       "      <th>5</th>\n",
       "      <td>Adhi Kot</td>\n",
       "      <td>379</td>\n",
       "      <td>Valid</td>\n",
       "      <td>EH4</td>\n",
       "      <td>Quantity[4239, \"Grams\"]</td>\n",
       "      <td>Fell</td>\n",
       "      <td>DateObject[{1919}, \"Year\", \"Gregorian\", -5.]</td>\n",
       "      <td>GeoPosition[{32.1, 71.8}]</td>\n",
       "    </tr>\n",
       "    <tr>\n",
       "      <th>6</th>\n",
       "      <td>Adzhi-Bogdo (stone)</td>\n",
       "      <td>390</td>\n",
       "      <td>Valid</td>\n",
       "      <td>LL3-6</td>\n",
       "      <td>Quantity[910, \"Grams\"]</td>\n",
       "      <td>Fell</td>\n",
       "      <td>DateObject[{1949}, \"Year\", \"Gregorian\", -5.]</td>\n",
       "      <td>GeoPosition[{44.83333, 95.16667}]</td>\n",
       "    </tr>\n",
       "    <tr>\n",
       "      <th>7</th>\n",
       "      <td>Agen</td>\n",
       "      <td>392</td>\n",
       "      <td>Valid</td>\n",
       "      <td>H5</td>\n",
       "      <td>Quantity[30000, \"Grams\"]</td>\n",
       "      <td>Fell</td>\n",
       "      <td>DateObject[{1814}, \"Year\", \"Gregorian\", -5.]</td>\n",
       "      <td>GeoPosition[{44.21667, 0.61667}]</td>\n",
       "    </tr>\n",
       "    <tr>\n",
       "      <th>8</th>\n",
       "      <td>Aguada</td>\n",
       "      <td>398</td>\n",
       "      <td>Valid</td>\n",
       "      <td>L6</td>\n",
       "      <td>Quantity[1620, \"Grams\"]</td>\n",
       "      <td>Fell</td>\n",
       "      <td>DateObject[{1930}, \"Year\", \"Gregorian\", -5.]</td>\n",
       "      <td>GeoPosition[{-31.6, -65.23333}]</td>\n",
       "    </tr>\n",
       "    <tr>\n",
       "      <th>9</th>\n",
       "      <td>Aguila Blanca</td>\n",
       "      <td>417</td>\n",
       "      <td>Valid</td>\n",
       "      <td>L</td>\n",
       "      <td>Quantity[1440, \"Grams\"]</td>\n",
       "      <td>Fell</td>\n",
       "      <td>DateObject[{1920}, \"Year\", \"Gregorian\", -5.]</td>\n",
       "      <td>GeoPosition[{-30.86667, -64.55}]</td>\n",
       "    </tr>\n",
       "    <tr>\n",
       "      <th>10</th>\n",
       "      <td>Aioun el Atrouss</td>\n",
       "      <td>423</td>\n",
       "      <td>Valid</td>\n",
       "      <td>Diogenite-pm</td>\n",
       "      <td>Quantity[1000, \"Grams\"]</td>\n",
       "      <td>Fell</td>\n",
       "      <td>DateObject[{1974}, \"Year\", \"Gregorian\", -5.]</td>\n",
       "      <td>GeoPosition[{16.39806, -9.57028}]</td>\n",
       "    </tr>\n",
       "    <tr>\n",
       "      <th>11</th>\n",
       "      <td>Aïr</td>\n",
       "      <td>424</td>\n",
       "      <td>Valid</td>\n",
       "      <td>L6</td>\n",
       "      <td>Quantity[24000, \"Grams\"]</td>\n",
       "      <td>Fell</td>\n",
       "      <td>DateObject[{1925}, \"Year\", \"Gregorian\", -5.]</td>\n",
       "      <td>GeoPosition[{19.08333, 8.38333}]</td>\n",
       "    </tr>\n",
       "    <tr>\n",
       "      <th>12</th>\n",
       "      <td>Aire-sur-la-Lys</td>\n",
       "      <td>425</td>\n",
       "      <td>Valid</td>\n",
       "      <td>Unknown</td>\n",
       "      <td>Missing[\"NotAvailable\"]</td>\n",
       "      <td>Fell</td>\n",
       "      <td>DateObject[{1769}, \"Year\", \"Gregorian\", -5.]</td>\n",
       "      <td>GeoPosition[{50.66667, 2.33333}]</td>\n",
       "    </tr>\n",
       "    <tr>\n",
       "      <th>13</th>\n",
       "      <td>Akaba</td>\n",
       "      <td>426</td>\n",
       "      <td>Valid</td>\n",
       "      <td>L6</td>\n",
       "      <td>Quantity[779, \"Grams\"]</td>\n",
       "      <td>Fell</td>\n",
       "      <td>DateObject[{1949}, \"Year\", \"Gregorian\", -5.]</td>\n",
       "      <td>GeoPosition[{29.51667, 35.05}]</td>\n",
       "    </tr>\n",
       "    <tr>\n",
       "      <th>14</th>\n",
       "      <td>Akbarpur</td>\n",
       "      <td>427</td>\n",
       "      <td>Valid</td>\n",
       "      <td>H4</td>\n",
       "      <td>Quantity[1800, \"Grams\"]</td>\n",
       "      <td>Fell</td>\n",
       "      <td>DateObject[{1838}, \"Year\", \"Gregorian\", -5.]</td>\n",
       "      <td>GeoPosition[{29.71667, 77.95}]</td>\n",
       "    </tr>\n",
       "  </tbody>\n",
       "</table>\n",
       "</div>"
      ],
      "text/plain": [
       "                   Name   ID NameType Classification  \\\n",
       "0                Aachen    1    Valid             L5   \n",
       "1                Aarhus    2    Valid             H6   \n",
       "2                  Abee    6    Valid            EH4   \n",
       "3              Acapulco   10    Valid    Acapulcoite   \n",
       "4               Achiras  370    Valid             L6   \n",
       "5              Adhi Kot  379    Valid            EH4   \n",
       "6   Adzhi-Bogdo (stone)  390    Valid          LL3-6   \n",
       "7                  Agen  392    Valid             H5   \n",
       "8                Aguada  398    Valid             L6   \n",
       "9         Aguila Blanca  417    Valid              L   \n",
       "10     Aioun el Atrouss  423    Valid   Diogenite-pm   \n",
       "11                  Aïr  424    Valid             L6   \n",
       "12      Aire-sur-la-Lys  425    Valid        Unknown   \n",
       "13                Akaba  426    Valid             L6   \n",
       "14             Akbarpur  427    Valid             H4   \n",
       "\n",
       "                         Mass  Fall  \\\n",
       "0       Quantity[21, \"Grams\"]  Fell   \n",
       "1      Quantity[720, \"Grams\"]  Fell   \n",
       "2   Quantity[107000, \"Grams\"]  Fell   \n",
       "3     Quantity[1914, \"Grams\"]  Fell   \n",
       "4      Quantity[780, \"Grams\"]  Fell   \n",
       "5     Quantity[4239, \"Grams\"]  Fell   \n",
       "6      Quantity[910, \"Grams\"]  Fell   \n",
       "7    Quantity[30000, \"Grams\"]  Fell   \n",
       "8     Quantity[1620, \"Grams\"]  Fell   \n",
       "9     Quantity[1440, \"Grams\"]  Fell   \n",
       "10    Quantity[1000, \"Grams\"]  Fell   \n",
       "11   Quantity[24000, \"Grams\"]  Fell   \n",
       "12    Missing[\"NotAvailable\"]  Fell   \n",
       "13     Quantity[779, \"Grams\"]  Fell   \n",
       "14    Quantity[1800, \"Grams\"]  Fell   \n",
       "\n",
       "                                            Year  \\\n",
       "0   DateObject[{1880}, \"Year\", \"Gregorian\", -5.]   \n",
       "1   DateObject[{1951}, \"Year\", \"Gregorian\", -5.]   \n",
       "2   DateObject[{1952}, \"Year\", \"Gregorian\", -5.]   \n",
       "3   DateObject[{1976}, \"Year\", \"Gregorian\", -5.]   \n",
       "4   DateObject[{1902}, \"Year\", \"Gregorian\", -5.]   \n",
       "5   DateObject[{1919}, \"Year\", \"Gregorian\", -5.]   \n",
       "6   DateObject[{1949}, \"Year\", \"Gregorian\", -5.]   \n",
       "7   DateObject[{1814}, \"Year\", \"Gregorian\", -5.]   \n",
       "8   DateObject[{1930}, \"Year\", \"Gregorian\", -5.]   \n",
       "9   DateObject[{1920}, \"Year\", \"Gregorian\", -5.]   \n",
       "10  DateObject[{1974}, \"Year\", \"Gregorian\", -5.]   \n",
       "11  DateObject[{1925}, \"Year\", \"Gregorian\", -5.]   \n",
       "12  DateObject[{1769}, \"Year\", \"Gregorian\", -5.]   \n",
       "13  DateObject[{1949}, \"Year\", \"Gregorian\", -5.]   \n",
       "14  DateObject[{1838}, \"Year\", \"Gregorian\", -5.]   \n",
       "\n",
       "                          Coordinates  \n",
       "0      GeoPosition[{50.775, 6.08333}]  \n",
       "1   GeoPosition[{56.18333, 10.23333}]  \n",
       "2      GeoPosition[{54.21667, -113.}]  \n",
       "3      GeoPosition[{16.88333, -99.9}]  \n",
       "4    GeoPosition[{-33.16667, -64.95}]  \n",
       "5           GeoPosition[{32.1, 71.8}]  \n",
       "6   GeoPosition[{44.83333, 95.16667}]  \n",
       "7    GeoPosition[{44.21667, 0.61667}]  \n",
       "8     GeoPosition[{-31.6, -65.23333}]  \n",
       "9    GeoPosition[{-30.86667, -64.55}]  \n",
       "10  GeoPosition[{16.39806, -9.57028}]  \n",
       "11   GeoPosition[{19.08333, 8.38333}]  \n",
       "12   GeoPosition[{50.66667, 2.33333}]  \n",
       "13     GeoPosition[{29.51667, 35.05}]  \n",
       "14     GeoPosition[{29.71667, 77.95}]  "
      ]
     },
     "execution_count": 2,
     "metadata": {},
     "output_type": "execute_result"
    }
   ],
   "source": [
    "data = pd.read_csv('Meteorite Landing - Meteorite-Landings.csv')\n",
    "data.head(15)"
   ]
  },
  {
   "cell_type": "code",
   "execution_count": 3,
   "id": "1a959b31",
   "metadata": {},
   "outputs": [
    {
     "name": "stdout",
     "output_type": "stream",
     "text": [
      "<class 'pandas.core.frame.DataFrame'>\n",
      "RangeIndex: 45716 entries, 0 to 45715\n",
      "Data columns (total 8 columns):\n",
      " #   Column          Non-Null Count  Dtype \n",
      "---  ------          --------------  ----- \n",
      " 0   Name            45716 non-null  object\n",
      " 1   ID              45716 non-null  int64 \n",
      " 2   NameType        45716 non-null  object\n",
      " 3   Classification  45716 non-null  object\n",
      " 4   Mass            45716 non-null  object\n",
      " 5   Fall            45716 non-null  object\n",
      " 6   Year            45716 non-null  object\n",
      " 7   Coordinates     45716 non-null  object\n",
      "dtypes: int64(1), object(7)\n",
      "memory usage: 2.8+ MB\n"
     ]
    }
   ],
   "source": [
    "data.info()"
   ]
  },
  {
   "cell_type": "code",
   "execution_count": 4,
   "id": "a30bd77c",
   "metadata": {},
   "outputs": [],
   "source": [
    "data = data.drop(columns='ID',axis=1)"
   ]
  },
  {
   "cell_type": "code",
   "execution_count": 5,
   "id": "6d383696",
   "metadata": {},
   "outputs": [
    {
     "name": "stdout",
     "output_type": "stream",
     "text": [
      "Name\n",
      "Aachen        1\n",
      "Aarhus        1\n",
      "Abee          1\n",
      "Acapulco      1\n",
      "Achiras       1\n",
      "             ..\n",
      "Zillah 002    1\n",
      "Zinder        1\n",
      "Zlin          1\n",
      "Zubkovsky     1\n",
      "Zulu Queen    1\n",
      "Name: count, Length: 45716, dtype: int64\n",
      "Number of null values in Name is : 0\n",
      "False\n",
      "NameType\n",
      "Valid     45641\n",
      "Relict       75\n",
      "Name: count, dtype: int64\n",
      "Number of null values in NameType is : 0\n",
      "False\n",
      "Classification\n",
      "L6            8285\n",
      "H5            7142\n",
      "L5            4796\n",
      "H6            4528\n",
      "H4            4211\n",
      "              ... \n",
      "H/L4-5           1\n",
      "CR2-an           1\n",
      "Pallasite?       1\n",
      "C1/2-ung         1\n",
      "L/LL             1\n",
      "Name: count, Length: 466, dtype: int64\n",
      "Number of null values in Classification is : 0\n",
      "False\n",
      "Mass\n",
      "Quantity[1.3, \"Grams\"]       171\n",
      "Quantity[1.2, \"Grams\"]       140\n",
      "Quantity[1.4, \"Grams\"]       138\n",
      "Missing[\"NotAvailable\"]      131\n",
      "Quantity[2.1, \"Grams\"]       130\n",
      "                            ... \n",
      "Quantity[1475, \"Grams\"]        1\n",
      "Quantity[900000, \"Grams\"]      1\n",
      "Quantity[630000, \"Grams\"]      1\n",
      "Quantity[1058, \"Grams\"]        1\n",
      "Quantity[8680, \"Grams\"]        1\n",
      "Name: count, Length: 12577, dtype: int64\n",
      "Number of null values in Mass is : 0\n",
      "False\n",
      "Fall\n",
      "Found    44609\n",
      "Fell      1107\n",
      "Name: count, dtype: int64\n",
      "Number of null values in Fall is : 0\n",
      "False\n",
      "Year\n",
      "DateObject[{2003}, \"Year\", \"Gregorian\", -5.]    3323\n",
      "DateObject[{1979}, \"Year\", \"Gregorian\", -5.]    3046\n",
      "DateObject[{1998}, \"Year\", \"Gregorian\", -5.]    2697\n",
      "DateObject[{2006}, \"Year\", \"Gregorian\", -5.]    2456\n",
      "DateObject[{1988}, \"Year\", \"Gregorian\", -5.]    2296\n",
      "                                                ... \n",
      "DateObject[{1716}, \"Year\", \"Gregorian\", -5.]       1\n",
      "DateObject[{1724}, \"Year\", \"Gregorian\", -5.]       1\n",
      "DateObject[{1776}, \"Year\", \"Gregorian\", -5.]       1\n",
      "DateObject[{1832}, \"Year\", \"Gregorian\", -5.]       1\n",
      "DateObject[{1792}, \"Year\", \"Gregorian\", -5.]       1\n",
      "Name: count, Length: 265, dtype: int64\n",
      "Number of null values in Year is : 0\n",
      "False\n",
      "Coordinates\n",
      "Missing[\"NotAvailable\"]              13529\n",
      "GeoPosition[{-71.5, 35.66667}]        4761\n",
      "GeoPosition[{-84., 168.}]             3040\n",
      "GeoPosition[{-72., 26.}]              1505\n",
      "GeoPosition[{-79.68333, 159.75}]       657\n",
      "                                     ...  \n",
      "GeoPosition[{51.78333, -1.78333}]        1\n",
      "GeoPosition[{36.23333, 37.13333}]        1\n",
      "GeoPosition[{44.88333, 8.75}]            1\n",
      "GeoPosition[{50.95, 31.81667}]           1\n",
      "GeoPosition[{44.21667, 0.61667}]         1\n",
      "Name: count, Length: 17100, dtype: int64\n",
      "Number of null values in Coordinates is : 0\n",
      "False\n"
     ]
    }
   ],
   "source": [
    "column = data.columns\n",
    "for col in column:\n",
    "    print(data[col].value_counts())\n",
    "    print(f'Number of null values in {col} is : {data[col].isnull().sum()}')\n",
    "    print(f'{' ' in data[col].values}')"
   ]
  },
  {
   "cell_type": "code",
   "execution_count": 6,
   "id": "1154fbf7",
   "metadata": {},
   "outputs": [
    {
     "data": {
      "text/html": [
       "<div>\n",
       "<style scoped>\n",
       "    .dataframe tbody tr th:only-of-type {\n",
       "        vertical-align: middle;\n",
       "    }\n",
       "\n",
       "    .dataframe tbody tr th {\n",
       "        vertical-align: top;\n",
       "    }\n",
       "\n",
       "    .dataframe thead th {\n",
       "        text-align: right;\n",
       "    }\n",
       "</style>\n",
       "<table border=\"1\" class=\"dataframe\">\n",
       "  <thead>\n",
       "    <tr style=\"text-align: right;\">\n",
       "      <th></th>\n",
       "      <th>Name</th>\n",
       "      <th>NameType</th>\n",
       "      <th>Classification</th>\n",
       "      <th>Mass</th>\n",
       "      <th>Fall</th>\n",
       "      <th>Year</th>\n",
       "      <th>Coordinates</th>\n",
       "    </tr>\n",
       "  </thead>\n",
       "  <tbody>\n",
       "    <tr>\n",
       "      <th>count</th>\n",
       "      <td>45716</td>\n",
       "      <td>45716</td>\n",
       "      <td>45716</td>\n",
       "      <td>45716</td>\n",
       "      <td>45716</td>\n",
       "      <td>45716</td>\n",
       "      <td>45716</td>\n",
       "    </tr>\n",
       "    <tr>\n",
       "      <th>unique</th>\n",
       "      <td>45716</td>\n",
       "      <td>2</td>\n",
       "      <td>466</td>\n",
       "      <td>12577</td>\n",
       "      <td>2</td>\n",
       "      <td>265</td>\n",
       "      <td>17100</td>\n",
       "    </tr>\n",
       "    <tr>\n",
       "      <th>top</th>\n",
       "      <td>Aachen</td>\n",
       "      <td>Valid</td>\n",
       "      <td>L6</td>\n",
       "      <td>Quantity[1.3, \"Grams\"]</td>\n",
       "      <td>Found</td>\n",
       "      <td>DateObject[{2003}, \"Year\", \"Gregorian\", -5.]</td>\n",
       "      <td>Missing[\"NotAvailable\"]</td>\n",
       "    </tr>\n",
       "    <tr>\n",
       "      <th>freq</th>\n",
       "      <td>1</td>\n",
       "      <td>45641</td>\n",
       "      <td>8285</td>\n",
       "      <td>171</td>\n",
       "      <td>44609</td>\n",
       "      <td>3323</td>\n",
       "      <td>13529</td>\n",
       "    </tr>\n",
       "  </tbody>\n",
       "</table>\n",
       "</div>"
      ],
      "text/plain": [
       "          Name NameType Classification                    Mass   Fall  \\\n",
       "count    45716    45716          45716                   45716  45716   \n",
       "unique   45716        2            466                   12577      2   \n",
       "top     Aachen    Valid             L6  Quantity[1.3, \"Grams\"]  Found   \n",
       "freq         1    45641           8285                     171  44609   \n",
       "\n",
       "                                                Year              Coordinates  \n",
       "count                                          45716                    45716  \n",
       "unique                                           265                    17100  \n",
       "top     DateObject[{2003}, \"Year\", \"Gregorian\", -5.]  Missing[\"NotAvailable\"]  \n",
       "freq                                            3323                    13529  "
      ]
     },
     "execution_count": 6,
     "metadata": {},
     "output_type": "execute_result"
    }
   ],
   "source": [
    "data.describe()"
   ]
  },
  {
   "cell_type": "code",
   "execution_count": 7,
   "id": "ee795a27",
   "metadata": {},
   "outputs": [
    {
     "name": "stdout",
     "output_type": "stream",
     "text": [
      "Missing values in Name: 0\n",
      "Missing values in NameType: 0\n",
      "Missing values in Classification: 0\n",
      "Missing values in Mass: 131\n",
      "Missing values in Fall: 0\n",
      "Missing values in Year: 292\n",
      "Missing values in Coordinates: 13529\n"
     ]
    }
   ],
   "source": [
    "for col in column:\n",
    "    print(f\"Missing values in {col}:\",(data[col] =='Missing[\"NotAvailable\"]').sum())\n",
    "    "
   ]
  },
  {
   "cell_type": "code",
   "execution_count": 8,
   "id": "529afd66",
   "metadata": {},
   "outputs": [
    {
     "name": "stderr",
     "output_type": "stream",
     "text": [
      "C:\\Users\\HARSH\\AppData\\Local\\Temp\\ipykernel_16848\\2324056335.py:2: FutureWarning: A value is trying to be set on a copy of a DataFrame or Series through chained assignment using an inplace method.\n",
      "The behavior will change in pandas 3.0. This inplace method will never work because the intermediate object on which we are setting values always behaves as a copy.\n",
      "\n",
      "For example, when doing 'df[col].method(value, inplace=True)', try using 'df.method({col: value}, inplace=True)' or df[col] = df[col].method(value) instead, to perform the operation inplace on the original object.\n",
      "\n",
      "\n",
      "  data[col].replace('Missing[\"NotAvailable\"]',np.nan,inplace=True)\n"
     ]
    }
   ],
   "source": [
    "for col in ['Mass','Year','Coordinates']:\n",
    "    data[col].replace('Missing[\"NotAvailable\"]',np.nan,inplace=True)"
   ]
  },
  {
   "cell_type": "code",
   "execution_count": 9,
   "id": "00ec9f6e",
   "metadata": {},
   "outputs": [
    {
     "data": {
      "text/plain": [
       "Name                  0\n",
       "NameType              0\n",
       "Classification        0\n",
       "Mass                131\n",
       "Fall                  0\n",
       "Year                292\n",
       "Coordinates       13529\n",
       "dtype: int64"
      ]
     },
     "execution_count": 9,
     "metadata": {},
     "output_type": "execute_result"
    }
   ],
   "source": [
    "data.isnull().sum()"
   ]
  },
  {
   "cell_type": "code",
   "execution_count": 10,
   "id": "6a1a105e",
   "metadata": {},
   "outputs": [
    {
     "name": "stderr",
     "output_type": "stream",
     "text": [
      "C:\\Users\\HARSH\\AppData\\Local\\Temp\\ipykernel_16848\\1186292976.py:1: FutureWarning: A value is trying to be set on a copy of a DataFrame or Series through chained assignment using an inplace method.\n",
      "The behavior will change in pandas 3.0. This inplace method will never work because the intermediate object on which we are setting values always behaves as a copy.\n",
      "\n",
      "For example, when doing 'df[col].method(value, inplace=True)', try using 'df.method({col: value}, inplace=True)' or df[col] = df[col].method(value) instead, to perform the operation inplace on the original object.\n",
      "\n",
      "\n",
      "  data['Coordinates'].replace(np.nan,'unknown',inplace=True)\n"
     ]
    }
   ],
   "source": [
    "data['Coordinates'].replace(np.nan,'unknown',inplace=True)\n"
   ]
  },
  {
   "cell_type": "code",
   "execution_count": 11,
   "id": "c925f9de",
   "metadata": {},
   "outputs": [],
   "source": [
    "data['Mass'] = data['Mass'].str.replace(r'[^0-9.]', '', regex=True).astype(float)\n",
    "data['Year'] = data['Year'].str.extract(r\"\\{(\\d+)\\}\").astype('Int64')\n",
    "data['Coordinates'] = data['Coordinates'].str.extract(r\"\\{(.*?)\\}\")\n"
   ]
  },
  {
   "cell_type": "code",
   "execution_count": 12,
   "id": "d70855e3",
   "metadata": {},
   "outputs": [],
   "source": [
    "data[['x_coordinate','y_coordinate']] = data['Coordinates'].str.split(',', expand=True)\n",
    "data = data.drop(columns='Coordinates',axis=1)"
   ]
  },
  {
   "cell_type": "code",
   "execution_count": 13,
   "id": "b5d30630",
   "metadata": {},
   "outputs": [
    {
     "name": "stderr",
     "output_type": "stream",
     "text": [
      "C:\\Users\\HARSH\\AppData\\Local\\Temp\\ipykernel_16848\\2408954644.py:1: FutureWarning: A value is trying to be set on a copy of a DataFrame or Series through chained assignment using an inplace method.\n",
      "The behavior will change in pandas 3.0. This inplace method will never work because the intermediate object on which we are setting values always behaves as a copy.\n",
      "\n",
      "For example, when doing 'df[col].method(value, inplace=True)', try using 'df.method({col: value}, inplace=True)' or df[col] = df[col].method(value) instead, to perform the operation inplace on the original object.\n",
      "\n",
      "\n",
      "  data['x_coordinate'].replace(np.nan,'unknown',inplace=True)\n",
      "C:\\Users\\HARSH\\AppData\\Local\\Temp\\ipykernel_16848\\2408954644.py:2: FutureWarning: A value is trying to be set on a copy of a DataFrame or Series through chained assignment using an inplace method.\n",
      "The behavior will change in pandas 3.0. This inplace method will never work because the intermediate object on which we are setting values always behaves as a copy.\n",
      "\n",
      "For example, when doing 'df[col].method(value, inplace=True)', try using 'df.method({col: value}, inplace=True)' or df[col] = df[col].method(value) instead, to perform the operation inplace on the original object.\n",
      "\n",
      "\n",
      "  data['y_coordinate'].replace(np.nan,'unknown',inplace=True)\n"
     ]
    }
   ],
   "source": [
    "data['x_coordinate'].replace(np.nan,'unknown',inplace=True)\n",
    "data['y_coordinate'].replace(np.nan,'unknown',inplace=True)"
   ]
  },
  {
   "cell_type": "code",
   "execution_count": 14,
   "id": "8d7789d3",
   "metadata": {},
   "outputs": [
    {
     "name": "stderr",
     "output_type": "stream",
     "text": [
      "C:\\Users\\HARSH\\AppData\\Local\\Temp\\ipykernel_16848\\1179340861.py:2: FutureWarning: A value is trying to be set on a copy of a DataFrame or Series through chained assignment using an inplace method.\n",
      "The behavior will change in pandas 3.0. This inplace method will never work because the intermediate object on which we are setting values always behaves as a copy.\n",
      "\n",
      "For example, when doing 'df[col].method(value, inplace=True)', try using 'df.method({col: value}, inplace=True)' or df[col] = df[col].method(value) instead, to perform the operation inplace on the original object.\n",
      "\n",
      "\n",
      "  data[\"Year\"].fillna(mode_year, inplace=True)\n"
     ]
    }
   ],
   "source": [
    "mode_year = int(data[\"Year\"].mode()[0])\n",
    "data[\"Year\"].fillna(mode_year, inplace=True)"
   ]
  },
  {
   "cell_type": "code",
   "execution_count": 15,
   "id": "166aae51",
   "metadata": {},
   "outputs": [
    {
     "data": {
      "text/plain": [
       "679    920\n",
       "704    860\n",
       "Name: Year, dtype: Int64"
      ]
     },
     "execution_count": 15,
     "metadata": {},
     "output_type": "execute_result"
    }
   ],
   "source": [
    "data.loc[data.query(\"Year < 1000\").index, \"Year\"]"
   ]
  },
  {
   "cell_type": "code",
   "execution_count": 16,
   "id": "536cd2ad",
   "metadata": {},
   "outputs": [],
   "source": [
    "data.loc[data.query(\"Year == 920\").index, \"Year\"] = 1920\n",
    "data.loc[data.query(\"Year == 860\").index, \"Year\"] = 1860"
   ]
  },
  {
   "cell_type": "code",
   "execution_count": 17,
   "id": "fd5028e6",
   "metadata": {},
   "outputs": [],
   "source": [
    "# data[\"Year\"] = pd.PeriodIndex(data[\"Year\"], freq=\"Y\")"
   ]
  },
  {
   "cell_type": "code",
   "execution_count": 18,
   "id": "8ed2954e",
   "metadata": {},
   "outputs": [
    {
     "name": "stderr",
     "output_type": "stream",
     "text": [
      "C:\\Users\\HARSH\\AppData\\Local\\Temp\\ipykernel_16848\\13369116.py:2: FutureWarning: A value is trying to be set on a copy of a DataFrame or Series through chained assignment using an inplace method.\n",
      "The behavior will change in pandas 3.0. This inplace method will never work because the intermediate object on which we are setting values always behaves as a copy.\n",
      "\n",
      "For example, when doing 'df[col].method(value, inplace=True)', try using 'df.method({col: value}, inplace=True)' or df[col] = df[col].method(value) instead, to perform the operation inplace on the original object.\n",
      "\n",
      "\n",
      "  data[\"Mass\"].fillna(mean_mass, inplace=True)\n"
     ]
    }
   ],
   "source": [
    "mean_mass = float(data[\"Mass\"].mean())\n",
    "data[\"Mass\"].fillna(mean_mass, inplace=True)"
   ]
  },
  {
   "cell_type": "code",
   "execution_count": 19,
   "id": "d44979ce",
   "metadata": {},
   "outputs": [
    {
     "data": {
      "text/plain": [
       "Name              0\n",
       "NameType          0\n",
       "Classification    0\n",
       "Mass              0\n",
       "Fall              0\n",
       "Year              0\n",
       "x_coordinate      0\n",
       "y_coordinate      0\n",
       "dtype: int64"
      ]
     },
     "execution_count": 19,
     "metadata": {},
     "output_type": "execute_result"
    }
   ],
   "source": [
    "data.isnull().sum()"
   ]
  },
  {
   "cell_type": "markdown",
   "id": "516711db",
   "metadata": {},
   "source": [
    "Step 3:"
   ]
  },
  {
   "cell_type": "code",
   "execution_count": 20,
   "id": "95c454a2",
   "metadata": {},
   "outputs": [
    {
     "name": "stdout",
     "output_type": "stream",
     "text": [
      "                        Name NameType   Classification        Mass   Fall  \\\n",
      "16392                   Hope    Valid        Iron, IVB  60000000.0  Found   \n",
      "5373            Catalina 011    Valid      Iron, IIIAB  58200000.0  Found   \n",
      "5365            Catalina 003    Valid     Iron, IAB-MG  50000000.0  Found   \n",
      "5370            Catalina 008    Valid     Iron, IAB-MG  30000000.0  Found   \n",
      "3455              Asuka 8602    Valid       Iron, IIIE  28000000.0  Found   \n",
      "12613      Glorieta Mountain    Valid        Iron, IVA  26000000.0  Found   \n",
      "5468        Colorado Springs    Valid      Iron, IIIAB  24300000.0  Found   \n",
      "26297        Mundrabilla 005    Valid    Iron, IAB-ung  24000000.0  Found   \n",
      "920                    Sinai    Valid       Iron, IIAB  23000000.0   Fell   \n",
      "5016   Bates Nunataks A78005    Valid  Iron, ungrouped  22000000.0  Found   \n",
      "\n",
      "       Year x_coordinate y_coordinate  \n",
      "16392  1920    -19.58333     17.91667  \n",
      "5373   1818     76.13333    -64.93333  \n",
      "5365   1575    -27.46667    -60.58333  \n",
      "5370   1891        35.05   -111.03333  \n",
      "3455   1898          47.          88.  \n",
      "12613  1836        -25.5          18.  \n",
      "5468   1852          27.       -105.1  \n",
      "26297  1911    -30.78333       127.55  \n",
      "920    1947        46.16    134.65333  \n",
      "5016   1863         26.2   -107.83333  \n"
     ]
    }
   ],
   "source": [
    "# finding top10 heavy meteorites\n",
    "top10_heavy = data.sort_values(\"Mass\",ascending=False).head(10)\n",
    "print(top10_heavy)"
   ]
  },
  {
   "cell_type": "code",
   "execution_count": 21,
   "id": "127a2338",
   "metadata": {},
   "outputs": [
    {
     "data": {
      "text/plain": [
       "Fall\n",
       "Found    44609\n",
       "Fell      1107\n",
       "Name: count, dtype: int64"
      ]
     },
     "execution_count": 21,
     "metadata": {},
     "output_type": "execute_result"
    }
   ],
   "source": [
    "data['Fall'].value_counts()"
   ]
  },
  {
   "cell_type": "code",
   "execution_count": 22,
   "id": "e2e5ff2f",
   "metadata": {},
   "outputs": [
    {
     "name": "stdout",
     "output_type": "stream",
     "text": [
      "Average mass of most common Classification L6 is 1459.0098607473276\n"
     ]
    }
   ],
   "source": [
    "mode_classification = data[\"Classification\"].mode()[0]\n",
    "data_1 = data[data['Classification']==mode_classification]\n",
    "print(f'Average mass of most common Classification {mode_classification} is {data_1['Mass'].mean()}')"
   ]
  },
  {
   "cell_type": "code",
   "execution_count": 23,
   "id": "c705b4db",
   "metadata": {},
   "outputs": [
    {
     "data": {
      "text/plain": [
       "array([2.100e+01, 7.200e+02, 1.070e+05, ..., 3.300e+00, 2.167e+03,\n",
       "       2.000e+02], shape=(45716,))"
      ]
     },
     "execution_count": 23,
     "metadata": {},
     "output_type": "execute_result"
    }
   ],
   "source": [
    "mass = np.array(data['Mass'])\n",
    "mass"
   ]
  },
  {
   "cell_type": "code",
   "execution_count": 24,
   "id": "7c5f5e15",
   "metadata": {},
   "outputs": [
    {
     "name": "stdout",
     "output_type": "stream",
     "text": [
      "Mean Mass:13278.078548601512\n",
      "Median Mass:32.985\n",
      "Standard deviation of Mass:574158.1672700922\n",
      "Max of Mass:60000000.0\n",
      "Sum of Mass:607020638.9278667\n"
     ]
    }
   ],
   "source": [
    "mass_mean = mass.mean()\n",
    "mass_median = np.median(mass)\n",
    "mass_std = np.std(mass)\n",
    "mass_sum = mass.sum()\n",
    "mass_max = mass.max()\n",
    "print(f'Mean Mass:{mass_mean}\\nMedian Mass:{mass_median}\\nStandard deviation of Mass:{mass_std}')\n",
    "print(f'Max of Mass:{mass_max}\\nSum of Mass:{mass_sum}')\n"
   ]
  },
  {
   "cell_type": "code",
   "execution_count": 25,
   "id": "191b0c9c",
   "metadata": {},
   "outputs": [
    {
     "data": {
      "text/html": [
       "<div>\n",
       "<style scoped>\n",
       "    .dataframe tbody tr th:only-of-type {\n",
       "        vertical-align: middle;\n",
       "    }\n",
       "\n",
       "    .dataframe tbody tr th {\n",
       "        vertical-align: top;\n",
       "    }\n",
       "\n",
       "    .dataframe thead th {\n",
       "        text-align: right;\n",
       "    }\n",
       "</style>\n",
       "<table border=\"1\" class=\"dataframe\">\n",
       "  <thead>\n",
       "    <tr style=\"text-align: right;\">\n",
       "      <th></th>\n",
       "      <th>Name</th>\n",
       "      <th>NameType</th>\n",
       "      <th>Classification</th>\n",
       "      <th>Mass</th>\n",
       "      <th>Fall</th>\n",
       "      <th>Year</th>\n",
       "      <th>x_coordinate</th>\n",
       "      <th>y_coordinate</th>\n",
       "    </tr>\n",
       "  </thead>\n",
       "  <tbody>\n",
       "    <tr>\n",
       "      <th>0</th>\n",
       "      <td>Aachen</td>\n",
       "      <td>Valid</td>\n",
       "      <td>L5</td>\n",
       "      <td>21.000000</td>\n",
       "      <td>Fell</td>\n",
       "      <td>1880</td>\n",
       "      <td>50.775</td>\n",
       "      <td>6.08333</td>\n",
       "    </tr>\n",
       "    <tr>\n",
       "      <th>1</th>\n",
       "      <td>Aarhus</td>\n",
       "      <td>Valid</td>\n",
       "      <td>H6</td>\n",
       "      <td>720.000000</td>\n",
       "      <td>Fell</td>\n",
       "      <td>1951</td>\n",
       "      <td>56.18333</td>\n",
       "      <td>10.23333</td>\n",
       "    </tr>\n",
       "    <tr>\n",
       "      <th>2</th>\n",
       "      <td>Abee</td>\n",
       "      <td>Valid</td>\n",
       "      <td>EH4</td>\n",
       "      <td>107000.000000</td>\n",
       "      <td>Fell</td>\n",
       "      <td>1952</td>\n",
       "      <td>54.21667</td>\n",
       "      <td>-113.</td>\n",
       "    </tr>\n",
       "    <tr>\n",
       "      <th>3</th>\n",
       "      <td>Acapulco</td>\n",
       "      <td>Valid</td>\n",
       "      <td>Acapulcoite</td>\n",
       "      <td>1914.000000</td>\n",
       "      <td>Fell</td>\n",
       "      <td>1976</td>\n",
       "      <td>16.88333</td>\n",
       "      <td>-99.9</td>\n",
       "    </tr>\n",
       "    <tr>\n",
       "      <th>4</th>\n",
       "      <td>Achiras</td>\n",
       "      <td>Valid</td>\n",
       "      <td>L6</td>\n",
       "      <td>780.000000</td>\n",
       "      <td>Fell</td>\n",
       "      <td>1902</td>\n",
       "      <td>-33.16667</td>\n",
       "      <td>-64.95</td>\n",
       "    </tr>\n",
       "    <tr>\n",
       "      <th>5</th>\n",
       "      <td>Adhi Kot</td>\n",
       "      <td>Valid</td>\n",
       "      <td>EH4</td>\n",
       "      <td>4239.000000</td>\n",
       "      <td>Fell</td>\n",
       "      <td>1919</td>\n",
       "      <td>32.1</td>\n",
       "      <td>71.8</td>\n",
       "    </tr>\n",
       "    <tr>\n",
       "      <th>6</th>\n",
       "      <td>Adzhi-Bogdo (stone)</td>\n",
       "      <td>Valid</td>\n",
       "      <td>LL3-6</td>\n",
       "      <td>910.000000</td>\n",
       "      <td>Fell</td>\n",
       "      <td>1949</td>\n",
       "      <td>44.83333</td>\n",
       "      <td>95.16667</td>\n",
       "    </tr>\n",
       "    <tr>\n",
       "      <th>7</th>\n",
       "      <td>Agen</td>\n",
       "      <td>Valid</td>\n",
       "      <td>H5</td>\n",
       "      <td>30000.000000</td>\n",
       "      <td>Fell</td>\n",
       "      <td>1814</td>\n",
       "      <td>44.21667</td>\n",
       "      <td>0.61667</td>\n",
       "    </tr>\n",
       "    <tr>\n",
       "      <th>8</th>\n",
       "      <td>Aguada</td>\n",
       "      <td>Valid</td>\n",
       "      <td>L6</td>\n",
       "      <td>1620.000000</td>\n",
       "      <td>Fell</td>\n",
       "      <td>1930</td>\n",
       "      <td>-31.6</td>\n",
       "      <td>-65.23333</td>\n",
       "    </tr>\n",
       "    <tr>\n",
       "      <th>9</th>\n",
       "      <td>Aguila Blanca</td>\n",
       "      <td>Valid</td>\n",
       "      <td>L</td>\n",
       "      <td>1440.000000</td>\n",
       "      <td>Fell</td>\n",
       "      <td>1920</td>\n",
       "      <td>-30.86667</td>\n",
       "      <td>-64.55</td>\n",
       "    </tr>\n",
       "    <tr>\n",
       "      <th>10</th>\n",
       "      <td>Aioun el Atrouss</td>\n",
       "      <td>Valid</td>\n",
       "      <td>Diogenite-pm</td>\n",
       "      <td>1000.000000</td>\n",
       "      <td>Fell</td>\n",
       "      <td>1974</td>\n",
       "      <td>16.39806</td>\n",
       "      <td>-9.57028</td>\n",
       "    </tr>\n",
       "    <tr>\n",
       "      <th>11</th>\n",
       "      <td>Aïr</td>\n",
       "      <td>Valid</td>\n",
       "      <td>L6</td>\n",
       "      <td>24000.000000</td>\n",
       "      <td>Fell</td>\n",
       "      <td>1925</td>\n",
       "      <td>19.08333</td>\n",
       "      <td>8.38333</td>\n",
       "    </tr>\n",
       "    <tr>\n",
       "      <th>12</th>\n",
       "      <td>Aire-sur-la-Lys</td>\n",
       "      <td>Valid</td>\n",
       "      <td>Unknown</td>\n",
       "      <td>13278.078549</td>\n",
       "      <td>Fell</td>\n",
       "      <td>1769</td>\n",
       "      <td>50.66667</td>\n",
       "      <td>2.33333</td>\n",
       "    </tr>\n",
       "    <tr>\n",
       "      <th>13</th>\n",
       "      <td>Akaba</td>\n",
       "      <td>Valid</td>\n",
       "      <td>L6</td>\n",
       "      <td>779.000000</td>\n",
       "      <td>Fell</td>\n",
       "      <td>1949</td>\n",
       "      <td>29.51667</td>\n",
       "      <td>35.05</td>\n",
       "    </tr>\n",
       "    <tr>\n",
       "      <th>14</th>\n",
       "      <td>Akbarpur</td>\n",
       "      <td>Valid</td>\n",
       "      <td>H4</td>\n",
       "      <td>1800.000000</td>\n",
       "      <td>Fell</td>\n",
       "      <td>1838</td>\n",
       "      <td>29.71667</td>\n",
       "      <td>77.95</td>\n",
       "    </tr>\n",
       "  </tbody>\n",
       "</table>\n",
       "</div>"
      ],
      "text/plain": [
       "                   Name NameType Classification           Mass  Fall  Year  \\\n",
       "0                Aachen    Valid             L5      21.000000  Fell  1880   \n",
       "1                Aarhus    Valid             H6     720.000000  Fell  1951   \n",
       "2                  Abee    Valid            EH4  107000.000000  Fell  1952   \n",
       "3              Acapulco    Valid    Acapulcoite    1914.000000  Fell  1976   \n",
       "4               Achiras    Valid             L6     780.000000  Fell  1902   \n",
       "5              Adhi Kot    Valid            EH4    4239.000000  Fell  1919   \n",
       "6   Adzhi-Bogdo (stone)    Valid          LL3-6     910.000000  Fell  1949   \n",
       "7                  Agen    Valid             H5   30000.000000  Fell  1814   \n",
       "8                Aguada    Valid             L6    1620.000000  Fell  1930   \n",
       "9         Aguila Blanca    Valid              L    1440.000000  Fell  1920   \n",
       "10     Aioun el Atrouss    Valid   Diogenite-pm    1000.000000  Fell  1974   \n",
       "11                  Aïr    Valid             L6   24000.000000  Fell  1925   \n",
       "12      Aire-sur-la-Lys    Valid        Unknown   13278.078549  Fell  1769   \n",
       "13                Akaba    Valid             L6     779.000000  Fell  1949   \n",
       "14             Akbarpur    Valid             H4    1800.000000  Fell  1838   \n",
       "\n",
       "   x_coordinate y_coordinate  \n",
       "0        50.775      6.08333  \n",
       "1      56.18333     10.23333  \n",
       "2      54.21667        -113.  \n",
       "3      16.88333        -99.9  \n",
       "4     -33.16667       -64.95  \n",
       "5          32.1         71.8  \n",
       "6      44.83333     95.16667  \n",
       "7      44.21667      0.61667  \n",
       "8         -31.6    -65.23333  \n",
       "9     -30.86667       -64.55  \n",
       "10     16.39806     -9.57028  \n",
       "11     19.08333      8.38333  \n",
       "12     50.66667      2.33333  \n",
       "13     29.51667        35.05  \n",
       "14     29.71667        77.95  "
      ]
     },
     "execution_count": 25,
     "metadata": {},
     "output_type": "execute_result"
    }
   ],
   "source": [
    "data.head(15)"
   ]
  },
  {
   "cell_type": "markdown",
   "id": "73c8c511",
   "metadata": {},
   "source": [
    "Step4:"
   ]
  },
  {
   "cell_type": "code",
   "execution_count": 26,
   "id": "8c4110a3",
   "metadata": {},
   "outputs": [
    {
     "data": {
      "text/plain": [
       "<Axes: xlabel='Fall', ylabel='count'>"
      ]
     },
     "execution_count": 26,
     "metadata": {},
     "output_type": "execute_result"
    },
    {
     "data": {
      "image/png": "[encoded data removed]",
      "text/plain": [
       "<Figure size 640x480 with 1 Axes>"
      ]
     },
     "metadata": {},
     "output_type": "display_data"
    }
   ],
   "source": [
    "sns.countplot(data,x='Fall')"
   ]
  },
  {
   "cell_type": "code",
   "execution_count": 27,
   "id": "528db83c",
   "metadata": {},
   "outputs": [
    {
     "data": {
      "text/plain": [
       "<Axes: xlabel='count', ylabel='Classification'>"
      ]
     },
     "execution_count": 27,
     "metadata": {},
     "output_type": "execute_result"
    },
    {
     "data": {
      "image/png": "[encoded data removed]",
      "text/plain": [
       "<Figure size 640x480 with 1 Axes>"
      ]
     },
     "metadata": {},
     "output_type": "display_data"
    }
   ],
   "source": [
    "sns.countplot(top10_heavy['Classification'])"
   ]
  },
  {
   "cell_type": "code",
   "execution_count": 28,
   "id": "e8896323",
   "metadata": {},
   "outputs": [
    {
     "data": {
      "text/plain": [
       "(array([1.0000e+00, 4.0000e+00, 2.0000e+00, 7.0000e+00, 7.0000e+00,\n",
       "        1.2000e+01, 1.0300e+02, 4.8500e+02, 1.1240e+03, 4.3971e+04]),\n",
       " array([1399. , 1460.4, 1521.8, 1583.2, 1644.6, 1706. , 1767.4, 1828.8,\n",
       "        1890.2, 1951.6, 2013. ]),\n",
       " <BarContainer object of 10 artists>)"
      ]
     },
     "execution_count": 28,
     "metadata": {},
     "output_type": "execute_result"
    },
    {
     "data": {
      "image/png": "[encoded data removed]",
      "text/plain": [
       "<Figure size 640x480 with 1 Axes>"
      ]
     },
     "metadata": {},
     "output_type": "display_data"
    }
   ],
   "source": [
    "plt.hist(data['Year'])"
   ]
  },
  {
   "cell_type": "code",
   "execution_count": 29,
   "id": "111665e5",
   "metadata": {},
   "outputs": [
    {
     "data": {
      "text/plain": [
       "<Axes: xlabel='Year', ylabel='Mass'>"
      ]
     },
     "execution_count": 29,
     "metadata": {},
     "output_type": "execute_result"
    },
    {
     "data": {
      "image/png": "[encoded data removed]",
      "text/plain": [
       "<Figure size 640x480 with 1 Axes>"
      ]
     },
     "metadata": {},
     "output_type": "display_data"
    }
   ],
   "source": [
    "sns.scatterplot(x='Year', y='Mass', data=data,hue=data['Fall'],style=data['NameType'])"
   ]
  },
  {
   "cell_type": "code",
   "execution_count": 30,
   "id": "7f1ce56a",
   "metadata": {},
   "outputs": [
    {
     "data": {
      "text/plain": [
       "<seaborn.axisgrid.FacetGrid at 0x21a9a3956a0>"
      ]
     },
     "execution_count": 30,
     "metadata": {},
     "output_type": "execute_result"
    },
    {
     "data": {
      "image/png": "[encoded data removed]",
      "text/plain": [
       "<Figure size 500x500 with 1 Axes>"
      ]
     },
     "metadata": {},
     "output_type": "display_data"
    }
   ],
   "source": [
    "sns.displot(data[data['Classification']==mode_classification]['Year'],kind=\"kde\")"
   ]
  },
  {
   "cell_type": "code",
   "execution_count": 31,
   "id": "266390d6",
   "metadata": {},
   "outputs": [
    {
     "data": {
      "text/plain": [
       "<seaborn.axisgrid.PairGrid at 0x21a9a1fb4d0>"
      ]
     },
     "execution_count": 31,
     "metadata": {},
     "output_type": "execute_result"
    },
    {
     "data": {
      "image/png": "[encoded data removed]",
      "text/plain": [
       "<Figure size 660.875x500 with 6 Axes>"
      ]
     },
     "metadata": {},
     "output_type": "display_data"
    }
   ],
   "source": [
    "sns.pairplot(top10_heavy,hue='Classification')"
   ]
  },
  {
   "cell_type": "code",
   "execution_count": 32,
   "id": "d7fa9543",
   "metadata": {},
   "outputs": [
    {
     "data": {
      "text/plain": [
       "<seaborn.axisgrid.PairGrid at 0x21a9b1ae350>"
      ]
     },
     "execution_count": 32,
     "metadata": {},
     "output_type": "execute_result"
    },
    {
     "data": {
      "image/png": "[encoded data removed]",
      "text/plain": [
       "<Figure size 592.375x500 with 6 Axes>"
      ]
     },
     "metadata": {},
     "output_type": "display_data"
    }
   ],
   "source": [
    "sns.pairplot(data,hue='Fall')"
   ]
  }
 ],
 "metadata": {
  "kernelspec": {
   "display_name": "Python 3",
   "language": "python",
   "name": "python3"
  },
  "language_info": {
   "codemirror_mode": {
    "name": "ipython",
    "version": 3
   },
   "file_extension": ".py",
   "mimetype": "text/x-python",
   "name": "python",
   "nbconvert_exporter": "python",
   "pygments_lexer": "ipython3",
   "version": "3.13.2"
  }
 },
 "nbformat": 4,
 "nbformat_minor": 5
}
